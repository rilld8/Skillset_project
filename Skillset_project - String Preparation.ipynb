{
 "cells": [
  {
   "cell_type": "code",
   "execution_count": 114,
   "metadata": {
    "collapsed": true
   },
   "outputs": [],
   "source": [
    "import nltk\n",
    "import json\n",
    "from pprint import pprint\n",
    "import urllib\n",
    "from bs4 import BeautifulSoup as bs\n",
    "import pandas as pd"
   ]
  },
  {
   "cell_type": "code",
   "execution_count": 76,
   "metadata": {
    "collapsed": false
   },
   "outputs": [
    {
     "name": "stdout",
     "output_type": "stream",
     "text": [
      "[u'/praca/programista-aplikacji-bi-warszawa,oferta,4732396',\n",
      " u'/praca/junior-business-intelligence-analyst-warszawa,oferta,4734392',\n",
      " u'/praca/specjalista-ds-crm-analitycznego-warszawa,oferta,4733798',\n",
      " u'/praca/specjalista-ds-rozwoju-systemu-raportowego-warszawa,oferta,4747572',\n",
      " u'/praca/inzynier-text-mining-data-mining-knowledge-engineering-warszawa,oferta,4744875']\n"
     ]
    }
   ],
   "source": [
    "with open('job_offers.json') as data_file:\n",
    "    job_offers = json.load(data_file)\n",
    "pprint(job_offers.keys()[0:5])"
   ]
  },
  {
   "cell_type": "code",
   "execution_count": 168,
   "metadata": {
    "collapsed": false
   },
   "outputs": [
    {
     "name": "stdout",
     "output_type": "stream",
     "text": [
      "www.pracuj.pl/praca/programista-aplikacji-bi-warszawa,oferta,4732396\n",
      "www.pracuj.pl/praca/junior-business-intelligence-analyst-warszawa,oferta,4734392\n",
      "www.pracuj.pl/praca/specjalista-ds-crm-analitycznego-warszawa,oferta,4733798\n",
      "www.pracuj.pl/praca/specjalista-ds-rozwoju-systemu-raportowego-warszawa,oferta,4747572\n",
      "www.pracuj.pl/praca/inzynier-text-mining-data-mining-knowledge-engineering-warszawa,oferta,4744875\n"
     ]
    }
   ],
   "source": [
    "for key in job_offers.keys()[0:5]:\n",
    "    print job_offers[key][\"link\"]"
   ]
  },
  {
   "cell_type": "code",
   "execution_count": 298,
   "metadata": {
    "collapsed": false
   },
   "outputs": [],
   "source": [
    "for key in job_offers.keys():\n",
    "    url = \"https://\" + job_offers[key][\"link\"]\n",
    "    html=urllib.urlopen(url).read()\n",
    "    soup = bs(html, \"html\")\n",
    "    job_offers[key][\"data_text\"]=soup.find_all(id=\"description\")"
   ]
  },
  {
   "cell_type": "code",
   "execution_count": 299,
   "metadata": {
    "collapsed": false
   },
   "outputs": [],
   "source": [
    "for key in job_offers.keys():\n",
    "    #job_offers[key][\"pure_text\"]=job_offers[key][\"data_text\"][0].get_text()\n",
    "    if job_offers[key][\"data_text\"] == []:\n",
    "        job_offers[key][\"pure_text\"] = 'N/A'   \n",
    "    else:\n",
    "        job_offers[key][\"pure_text\"] = job_offers[key][\"data_text\"][0].get_text()"
   ]
  },
  {
   "cell_type": "code",
   "execution_count": 301,
   "metadata": {
    "collapsed": false
   },
   "outputs": [
    {
     "name": "stdout",
     "output_type": "stream",
     "text": [
      "<type 'unicode'>\n"
     ]
    }
   ],
   "source": [
    "print type(job_offers[job_offers.keys()[14]][\"pure_text\"])"
   ]
  }
 ],
 "metadata": {
  "kernelspec": {
   "display_name": "Python 2",
   "language": "python",
   "name": "python2"
  },
  "language_info": {
   "codemirror_mode": {
    "name": "ipython",
    "version": 2
   },
   "file_extension": ".py",
   "mimetype": "text/x-python",
   "name": "python",
   "nbconvert_exporter": "python",
   "pygments_lexer": "ipython2",
   "version": "2.7.12"
  }
 },
 "nbformat": 4,
 "nbformat_minor": 0
}
