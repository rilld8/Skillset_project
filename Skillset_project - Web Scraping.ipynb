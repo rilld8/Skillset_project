{
 "cells": [
  {
   "cell_type": "markdown",
   "metadata": {},
   "source": [
    "First draft of project that parses through Pracuj.pl website in search of skills required for positions related to Data Science."
   ]
  },
  {
   "cell_type": "markdown",
   "metadata": {},
   "source": [
    "First step is to import necessary libraries for reading data and parsing website - urllib and BeautifulSoup. The latter handles all the transformation of nasty, terribly written HTML files and allows displaying it in much more pleasing way. It also provides some great tools for reading data hidden between tags. As it doesn't allow for loading website I will use urllib for that purpose."
   ]
  },
  {
   "cell_type": "code",
   "execution_count": 3,
   "metadata": {
    "collapsed": false
   },
   "outputs": [],
   "source": [
    "import urllib\n",
    "from bs4 import BeautifulSoup as bs"
   ]
  },
  {
   "cell_type": "markdown",
   "metadata": {},
   "source": [
    "Let's take a look at our website. Firstly I will use urllib to read and load data coming from url into bs4. "
   ]
  },
  {
   "cell_type": "code",
   "execution_count": 35,
   "metadata": {
    "collapsed": false
   },
   "outputs": [],
   "source": [
    "url=\"http://www.pracuj.pl/praca/data%20science;kw/warszawa;wp\"\n",
    "html=urllib.urlopen(url).read()\n",
    "soup=bs(html, \"html\")"
   ]
  },
  {
   "cell_type": "code",
   "execution_count": 192,
   "metadata": {
    "collapsed": false
   },
   "outputs": [
    {
     "data": {
      "text/html": [
       "\n",
       "        <iframe\n",
       "            width=\"950\"\n",
       "            height=\"350\"\n",
       "            src=\"https://www.pracuj.pl/praca/data%20science;kw/warszawa;wp\"\n",
       "            frameborder=\"0\"\n",
       "            allowfullscreen\n",
       "        ></iframe>\n",
       "        "
      ],
      "text/plain": [
       "<IPython.lib.display.IFrame at 0xaf12be0>"
      ]
     },
     "execution_count": 192,
     "metadata": {},
     "output_type": "execute_result"
    }
   ],
   "source": [
    "from IPython.display import IFrame\n",
    "IFrame('https://www.pracuj.pl/praca/data%20science;kw/warszawa;wp', 950, 350)"
   ]
  },
  {
   "cell_type": "markdown",
   "metadata": {},
   "source": [
    "Let's see how our website looks like as a bs4 object."
   ]
  },
  {
   "cell_type": "code",
   "execution_count": 161,
   "metadata": {
    "collapsed": false
   },
   "outputs": [
    {
     "data": {
      "text/plain": [
       "281588"
      ]
     },
     "execution_count": 161,
     "metadata": {},
     "output_type": "execute_result"
    }
   ],
   "source": [
    "len(soup.prettify())"
   ]
  },
  {
   "cell_type": "code",
   "execution_count": 173,
   "metadata": {
    "collapsed": false
   },
   "outputs": [
    {
     "name": "stdout",
     "output_type": "stream",
     "text": [
      "o-list_star star \" data-href=\"/logowanie?returnUrl=%2fpraca%2fdata%2520science%3bkw%2fwarszawa%3bwp&amp;emailOriginId=Favourites&amp;addFav=4733139\" data-id=\"4733139\" data-tooltip=\"Dodaj do ulubionych\" data-tooltip-align=\"right\" data-tooltip-checked=\"Usuń z ulubionych\">\n",
      "        </span>\n",
      "        <h2 class=\"o-list_item_link\" data-applied-offer-id=\"4733139\">\n",
      "         <a class=\"o-list_item_link_name\" href=\"/praca/mlodszy-specjalista-ds-przeciwdzialania-naduzyciom-warszawa,oferta,4733139\" itemprop=\"title\" title=\"Praca Młodszy Specjalista ds. Przeciwdziałania Nadużyciom\">\n",
      "          Młodszy Specjalista ds. Przeciwdziałania Nadużyciom\n",
      "         </a>\n",
      "        </h2>\n",
      "        <h3 class=\"o-list_item_link\" data-offers=\"list\" itemprop=\"hiringOrganization\" itemscope=\"\" itemtype=\"http://schema.org/Organization\">\n",
      "         <a class=\"o-list_item_link_emp\" href=\"/poznaj-pracodawce/deutsche%20bank%20polska%20s.a.,3134133\" itemprop=\"name\" title=\"Praca Deutsche Bank Polska S.A.\">\n",
      "          Deutsche Bank Polska S\n"
     ]
    }
   ],
   "source": [
    "print soup.prettify()[102000:103000]"
   ]
  },
  {
   "cell_type": "markdown",
   "metadata": {},
   "source": [
    "So our HTML file has over 280 thousand characters. Links to job offers start around line 100,000th. Each of them is member of class \"o-list_item_link_name\"."
   ]
  },
  {
   "cell_type": "markdown",
   "metadata": {},
   "source": [
    "Let's extract links for each offer that meets our criteria."
   ]
  },
  {
   "cell_type": "code",
   "execution_count": 155,
   "metadata": {
    "collapsed": false
   },
   "outputs": [
    {
     "name": "stdout",
     "output_type": "stream",
     "text": [
      "/praca/praktykant-ka-zespol-aktuarialny-warszawa,oferta,4756161\n",
      "/praca/business-intelligence-ms-specialist-warszawa,oferta,4758430\n",
      "/praca/mlodszy-specjalista-ds-przeciwdzialania-naduzyciom-warszawa,oferta,4733139\n",
      "/praca/programista-aplikacji-bi-warszawa,oferta,4732396\n",
      "/praca/microsoft-bi-developer-warszawa,oferta,4717759\n",
      "/praca/business-intelligence-consultant-warszawa,oferta,4744292\n",
      "/praca/specjalista-ds-baz-danych-i-analizy-portfela-kredytowego-warszawa,oferta,4742891\n",
      "/praca/starszy-specjalista-ds-analiz-i-statystyki-warszawa,oferta,4720884\n",
      "/praca/bi-development-team-lead-warszawa,oferta,4717565\n",
      "/praca/etl-specialist-warszawa,oferta,4740993\n"
     ]
    }
   ],
   "source": [
    "links = soup.find_all('a', class_=\"o-list_item_link_name\")\n",
    "for link in links[0:10]:\n",
    "    print link.get('href',)"
   ]
  },
  {
   "cell_type": "markdown",
   "metadata": {},
   "source": [
    "We have links for each offer but it would be nice to know these offers by job title, as advertised by employer. "
   ]
  },
  {
   "cell_type": "code",
   "execution_count": 147,
   "metadata": {
    "collapsed": false
   },
   "outputs": [
    {
     "name": "stdout",
     "output_type": "stream",
     "text": [
      "Praktykant/ka - Zespół Aktuarialny\n",
      "Business Intelligence (MS) Specialist\n",
      "Młodszy Specjalista ds. Przeciwdziałania Nadużyciom\n",
      "Programista Aplikacji BI\n",
      "Microsoft BI Developer\n",
      "Business Intelligence Consultant\n",
      "Specjalista ds. baz danych i analizy portfela kredytowego\n",
      "Starszy Specjalista ds Analiz i Statystyki\n",
      "BI Development Team Lead\n",
      "ETL Specialist\n"
     ]
    }
   ],
   "source": [
    "job_titles = soup.find_all('a', class_=\"o-list_item_link_name\")\n",
    "for title in job_titles[0:5]:\n",
    "    print title.contents[0].strip()"
   ]
  },
  {
   "cell_type": "code",
   "execution_count": 82,
   "metadata": {
    "collapsed": false
   },
   "outputs": [],
   "source": [
    "prefix = \"www.pracuj.pl\""
   ]
  },
  {
   "cell_type": "code",
   "execution_count": 148,
   "metadata": {
    "collapsed": false,
    "scrolled": true
   },
   "outputs": [
    {
     "name": "stdout",
     "output_type": "stream",
     "text": [
      "www.pracuj.pl/praca/praktykant-ka-zespol-aktuarialny-warszawa,oferta,4756161\n",
      "www.pracuj.pl/praca/business-intelligence-ms-specialist-warszawa,oferta,4758430\n",
      "www.pracuj.pl/praca/mlodszy-specjalista-ds-przeciwdzialania-naduzyciom-warszawa,oferta,4733139\n",
      "www.pracuj.pl/praca/programista-aplikacji-bi-warszawa,oferta,4732396\n",
      "www.pracuj.pl/praca/microsoft-bi-developer-warszawa,oferta,4717759\n",
      "www.pracuj.pl/praca/business-intelligence-consultant-warszawa,oferta,4744292\n",
      "www.pracuj.pl/praca/specjalista-ds-baz-danych-i-analizy-portfela-kredytowego-warszawa,oferta,4742891\n",
      "www.pracuj.pl/praca/starszy-specjalista-ds-analiz-i-statystyki-warszawa,oferta,4720884\n",
      "www.pracuj.pl/praca/bi-development-team-lead-warszawa,oferta,4717565\n",
      "www.pracuj.pl/praca/etl-specialist-warszawa,oferta,4740993\n"
     ]
    }
   ],
   "source": [
    "links = soup.find_all('a', class_=\"o-list_item_link_name\")\n",
    "for link in links[0:5]:\n",
    "    print prefix + link.get('href',)"
   ]
  },
  {
   "cell_type": "markdown",
   "metadata": {},
   "source": [
    "To combine both job ad link and corresponding title I will create dictionary with links as keys."
   ]
  },
  {
   "cell_type": "code",
   "execution_count": 120,
   "metadata": {
    "collapsed": false
   },
   "outputs": [],
   "source": [
    "job_offers = {}\n",
    "for link in links:\n",
    "    job_offers[link.get('href')]={}"
   ]
  },
  {
   "cell_type": "markdown",
   "metadata": {},
   "source": [
    "Now for each link I will create additional dictionary that will contain link to given job offer as well as job title."
   ]
  },
  {
   "cell_type": "code",
   "execution_count": 121,
   "metadata": {
    "collapsed": false
   },
   "outputs": [],
   "source": [
    "for link in links:\n",
    "    job_offers[link.get('href')][\"link\"]=prefix + link.get('href')"
   ]
  },
  {
   "cell_type": "code",
   "execution_count": 153,
   "metadata": {
    "collapsed": false,
    "scrolled": false
   },
   "outputs": [],
   "source": [
    "\n",
    "for i, link in enumerate(links):\n",
    "    job_titles = soup.find_all('a', class_=\"o-list_item_link_name\")\n",
    "    job_offers[link.get('href')][\"Job_Title\"] = job_titles[i].contents[0].strip()"
   ]
  },
  {
   "cell_type": "markdown",
   "metadata": {},
   "source": [
    "Let's take a look at results. We should have job title with link pointing to ad with the offer."
   ]
  },
  {
   "cell_type": "code",
   "execution_count": 166,
   "metadata": {
    "collapsed": false
   },
   "outputs": [
    {
     "name": "stdout",
     "output_type": "stream",
     "text": [
      "Junior Business Intelligence Analyst\n",
      "www.pracuj.pl/praca/junior-business-intelligence-analyst-warszawa,oferta,4734392\n",
      "\n",
      "Specjalista ds. CRM Analitycznego\n",
      "www.pracuj.pl/praca/specjalista-ds-crm-analitycznego-warszawa,oferta,4733798\n",
      "\n",
      "Specjalista ds. rozwoju systemu raportowego\n",
      "www.pracuj.pl/praca/specjalista-ds-rozwoju-systemu-raportowego-warszawa,oferta,4747572\n",
      "\n",
      "Inżynier - Text Mining / Data Mining / Knowledge Engineering\n",
      "www.pracuj.pl/praca/inzynier-text-mining-data-mining-knowledge-engineering-warszawa,oferta,4744875\n",
      "\n",
      "Specjalista ds. E-commerce\n",
      "www.pracuj.pl/praca/specjalista-ds-e-commerce-warszawa,oferta,4720582\n",
      "\n"
     ]
    }
   ],
   "source": [
    "for key in job_offers.keys()[0:5]:\n",
    "    print job_offers[key][\"Job_Title\"] + \"\\n\" + job_offers[key][\"link\"] + \"\\n\""
   ]
  },
  {
   "cell_type": "markdown",
   "metadata": {},
   "source": [
    "I will want to save this data to a file as I will use it later on for further analysis. JSON files are easy to parse through and fast to write and read. So let's make use of json library. "
   ]
  },
  {
   "cell_type": "code",
   "execution_count": 162,
   "metadata": {
    "collapsed": true
   },
   "outputs": [],
   "source": [
    "import json\n",
    "with open(\"job_offers.json\", \"w\") as writeJSON:\n",
    "    json.dump(job_offers, writeJSON)"
   ]
  },
  {
   "cell_type": "code",
   "execution_count": 176,
   "metadata": {
    "collapsed": false
   },
   "outputs": [],
   "source": [
    "with open('job_offers.json') as data_file:\n",
    "    data = json.load(data_file)"
   ]
  }
 ],
 "metadata": {
  "kernelspec": {
   "display_name": "Python 2",
   "language": "python",
   "name": "python2"
  },
  "language_info": {
   "codemirror_mode": {
    "name": "ipython",
    "version": 2
   },
   "file_extension": ".py",
   "mimetype": "text/x-python",
   "name": "python",
   "nbconvert_exporter": "python",
   "pygments_lexer": "ipython2",
   "version": "2.7.12"
  }
 },
 "nbformat": 4,
 "nbformat_minor": 0
}
